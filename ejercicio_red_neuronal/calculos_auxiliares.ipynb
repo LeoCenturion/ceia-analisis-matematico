{
 "cells": [
  {
   "cell_type": "code",
   "execution_count": 2,
   "metadata": {},
   "outputs": [],
   "source": [
    "import numpy as np\n",
    "\n",
    "# Cálculos auxiliares"
   ]
  },
  {
   "cell_type": "code",
   "execution_count": 3,
   "metadata": {},
   "outputs": [],
   "source": [
    "# Parámetros iniciales\n",
    "w1 = np.array([[0.1, -0.5], [-0.3, -0.9], [0.8, 0.02]])\n",
    "b1 = np.array([0.1, 0.5, 0.8])\n",
    "w2 = np.array([-0.4, 0.2, -0.5])\n",
    "b2 = 0.7\n",
    "\n",
    "# Función sigmoidea\n",
    "def sigmoid(z):\n",
    "    return 1 / (1 + np.exp(-z))\n",
    "\n",
    "def sigmoid_prime(z):\n",
    "    return sigmoid(z) * (1 - sigmoid(z))"
   ]
  },
  {
   "cell_type": "code",
   "execution_count": 4,
   "metadata": {},
   "outputs": [
    {
     "data": {
      "text/plain": [
       "array([[ 0.1 , -0.5 ],\n",
       "       [-0.3 , -0.9 ],\n",
       "       [ 0.8 ,  0.02]])"
      ]
     },
     "execution_count": 4,
     "metadata": {},
     "output_type": "execute_result"
    }
   ],
   "source": [
    "w1"
   ]
  },
  {
   "cell_type": "code",
   "execution_count": 5,
   "metadata": {},
   "outputs": [],
   "source": [
    "# Entrada y salida deseada\n",
    "x = np.array([1.8, -3.4])\n",
    "y = 5"
   ]
  },
  {
   "cell_type": "code",
   "execution_count": 6,
   "metadata": {},
   "outputs": [
    {
     "name": "stdout",
     "output_type": "stream",
     "text": [
      "Costo: 10.02\n"
     ]
    }
   ],
   "source": [
    "# Propagación hacia adelante\n",
    "## Capa 1\n",
    "z1 = w1.dot(x) + b1\n",
    "a1 = sigmoid(z1)\n",
    "\n",
    "## Capa 2\n",
    "z2 = w2.dot(a1) + b2\n",
    "a2 = sigmoid(z2)\n",
    "y_hat = a2\n",
    "\n",
    "# Costo\n",
    "J = 0.5 * (y_hat - y)**2\n",
    "\n",
    "print(f'Costo: {J:.2f}')"
   ]
  },
  {
   "cell_type": "code",
   "execution_count": 7,
   "metadata": {},
   "outputs": [
    {
     "name": "stdout",
     "output_type": "stream",
     "text": [
      "dJ_dy_hat = -4.477\n",
      "a2 = 0.523\n",
      "a1 = [0.87868116 0.95346953 0.89770677]\n",
      "a2(1-a2)*a1 = [0.21922242 0.23788139 0.22396913]\n",
      "dJ_dw2 = [-0.98155159 -1.0650957  -1.0028046 ]\n"
     ]
    }
   ],
   "source": [
    "# Derivada respecto a w^(2)\n",
    "dJ_dy_hat = y_hat - y\n",
    "dJ_dw2 = dJ_dy_hat * sigmoid_prime(z2) * a1\n",
    "print(f'dJ_dy_hat = {dJ_dy_hat:.3f}')\n",
    "\n",
    "print(f'a2 = {a2:.3f}')\n",
    "print(f'a1 = {a1}')\n",
    "print(f'a2(1-a2)*a1 = {((a2*(1-a2))*a1)}')\n",
    "\n",
    "print(f'dJ_dw2 = {dJ_dw2}')"
   ]
  },
  {
   "cell_type": "code",
   "execution_count": 8,
   "metadata": {},
   "outputs": [
    {
     "name": "stdout",
     "output_type": "stream",
     "text": [
      "dy_hat_db2 = 0.249\n",
      "dJ_db2 = -1.117\n"
     ]
    }
   ],
   "source": [
    "# Derivada respecto a b^(2)\n",
    "dJ_db2 = dJ_dy_hat * sigmoid_prime(z2)\n",
    "print(f'dy_hat_db2 = {sigmoid_prime(z2):.3f}')\n",
    "print(f'dJ_db2 = {dJ_db2:.3f}')"
   ]
  },
  {
   "cell_type": "code",
   "execution_count": 9,
   "metadata": {},
   "outputs": [
    {
     "name": "stdout",
     "output_type": "stream",
     "text": [
      "s_prime(z1) = [0.10660058 0.04436539 0.09182932]\n",
      "ds_prime(z1)_dw1 = [[ 0.19188104 -0.36244196]\n",
      " [ 0.0798577  -0.15084232]\n",
      " [ 0.16529278 -0.3122197 ]]\n",
      "dJ_dw1 = [[-0.85913265  1.62280611]\n",
      " [-0.35755674  0.67538494]\n",
      " [-0.74008577  1.39793978]]\n"
     ]
    }
   ],
   "source": [
    "# Derivada respecto a w^(1)\n",
    "dJ_da1 = dJ_dy_hat * sigmoid_prime(z2) * w2\n",
    "dJ_dz1 = dJ_da1 * sigmoid_prime(z1)\n",
    "\n",
    "print(f's_prime(z1) = {sigmoid_prime(z1)}')\n",
    "\n",
    "ds_prime_dw1 = np.dot(sigmoid_prime(z1).reshape(-1, 1), x.reshape(1, -1))\n",
    "print(f'ds_prime(z1)_dw1 = {ds_prime_dw1}')\n",
    "\n",
    "print(f'dJ_dw1 = {dJ_dy_hat*ds_prime_dw1}')\n"
   ]
  },
  {
   "cell_type": "code",
   "execution_count": 10,
   "metadata": {},
   "outputs": [
    {
     "name": "stdout",
     "output_type": "stream",
     "text": [
      "s_prime(z1) = [-0.47729591 -0.19864263 -0.41115876]\n"
     ]
    }
   ],
   "source": [
    "print(f's_prime(z1) = {dJ_dy_hat*sigmoid_prime(z1)}')"
   ]
  },
  {
   "cell_type": "code",
   "execution_count": null,
   "metadata": {},
   "outputs": [],
   "source": []
  }
 ],
 "metadata": {
  "interpreter": {
   "hash": "ad2bdc8ecc057115af97d19610ffacc2b4e99fae6737bb82f5d7fb13d2f2c186"
  },
  "kernelspec": {
   "display_name": "Python 3.9.12 ('base')",
   "language": "python",
   "name": "python3"
  },
  "language_info": {
   "codemirror_mode": {
    "name": "ipython",
    "version": 3
   },
   "file_extension": ".py",
   "mimetype": "text/x-python",
   "name": "python",
   "nbconvert_exporter": "python",
   "pygments_lexer": "ipython3",
   "version": "3.9.12"
  },
  "orig_nbformat": 4
 },
 "nbformat": 4,
 "nbformat_minor": 2
}
