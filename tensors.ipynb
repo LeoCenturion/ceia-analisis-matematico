{
 "cells": [
  {
   "cell_type": "code",
   "id": "initial_id",
   "metadata": {
    "collapsed": true,
    "ExecuteTime": {
     "end_time": "2024-10-06T17:59:36.450809Z",
     "start_time": "2024-10-06T17:59:36.445756Z"
    }
   },
   "source": [
    "import numpy as np\n",
    "from numpy import array\n",
    "from numpy.linalg import det"
   ],
   "outputs": [],
   "execution_count": 19
  },
  {
   "metadata": {
    "ExecuteTime": {
     "end_time": "2024-10-06T18:02:38.478625Z",
     "start_time": "2024-10-06T18:02:38.476117Z"
    }
   },
   "cell_type": "code",
   "source": [
    "cov1 = array([1, 2, 3])\n",
    "cov2 = array([6, 5, 6])\n",
    "cov3 = array([7, 8, 9])"
   ],
   "id": "13d05719005b5f06",
   "outputs": [],
   "execution_count": 30
  },
  {
   "metadata": {
    "ExecuteTime": {
     "end_time": "2024-10-06T18:02:38.729672Z",
     "start_time": "2024-10-06T18:02:38.725747Z"
    }
   },
   "cell_type": "code",
   "source": "cov1",
   "id": "b9afb7bc06cbee12",
   "outputs": [
    {
     "data": {
      "text/plain": [
       "array([1, 2, 3])"
      ]
     },
     "execution_count": 31,
     "metadata": {},
     "output_type": "execute_result"
    }
   ],
   "execution_count": 31
  },
  {
   "metadata": {},
   "cell_type": "markdown",
   "source": "",
   "id": "6a09f729e834d39"
  },
  {
   "metadata": {
    "ExecuteTime": {
     "end_time": "2024-10-06T18:02:56.296180Z",
     "start_time": "2024-10-06T18:02:56.293204Z"
    }
   },
   "cell_type": "code",
   "source": "cov = array([cov1, cov2, cov3])",
   "id": "1ce200fd2b8372f7",
   "outputs": [],
   "execution_count": 35
  },
  {
   "metadata": {
    "ExecuteTime": {
     "end_time": "2024-10-06T18:06:09.882241Z",
     "start_time": "2024-10-06T18:06:09.875936Z"
    }
   },
   "cell_type": "code",
   "source": "covs = np.stack([cov, cov * 0.5, cov * 1.5])",
   "id": "abb2309e81b09480",
   "outputs": [],
   "execution_count": 45
  },
  {
   "metadata": {
    "ExecuteTime": {
     "end_time": "2024-10-06T18:06:13.373397Z",
     "start_time": "2024-10-06T18:06:13.370097Z"
    }
   },
   "cell_type": "code",
   "source": "covs",
   "id": "6995ec80702a82db",
   "outputs": [
    {
     "data": {
      "text/plain": [
       "array([[[ 1. ,  2. ,  3. ],\n",
       "        [ 6. ,  5. ,  6. ],\n",
       "        [ 7. ,  8. ,  9. ]],\n",
       "\n",
       "       [[ 0.5,  1. ,  1.5],\n",
       "        [ 3. ,  2.5,  3. ],\n",
       "        [ 3.5,  4. ,  4.5]],\n",
       "\n",
       "       [[ 1.5,  3. ,  4.5],\n",
       "        [ 9. ,  7.5,  9. ],\n",
       "        [10.5, 12. , 13.5]]])"
      ]
     },
     "execution_count": 46,
     "metadata": {},
     "output_type": "execute_result"
    }
   ],
   "execution_count": 46
  },
  {
   "metadata": {
    "ExecuteTime": {
     "end_time": "2024-10-06T18:06:15.436492Z",
     "start_time": "2024-10-06T18:06:15.431121Z"
    }
   },
   "cell_type": "code",
   "source": "det(covs)",
   "id": "c2420ae5c20a3875",
   "outputs": [
    {
     "data": {
      "text/plain": [
       "array([12. ,  1.5, 40.5])"
      ]
     },
     "execution_count": 47,
     "metadata": {},
     "output_type": "execute_result"
    }
   ],
   "execution_count": 47
  },
  {
   "metadata": {
    "ExecuteTime": {
     "end_time": "2024-10-06T18:02:05.900137Z",
     "start_time": "2024-10-06T18:02:05.895548Z"
    }
   },
   "cell_type": "code",
   "source": [
    "# means\n",
    "u1 = array([1, 1, 1])\n",
    "u2 = array([4, 1, 7])\n",
    "u3 = array([9, -1, 5])\n",
    "means = np.stack([u1, u2, u3])"
   ],
   "id": "6d7e3a21adddf78a",
   "outputs": [],
   "execution_count": 29
  },
  {
   "metadata": {
    "ExecuteTime": {
     "end_time": "2024-10-06T18:03:15.373695Z",
     "start_time": "2024-10-06T18:03:15.369045Z"
    }
   },
   "cell_type": "code",
   "source": "x  = array([1, 1, 1])",
   "id": "3cb1adc238959fdc",
   "outputs": [],
   "execution_count": 37
  },
  {
   "metadata": {
    "ExecuteTime": {
     "end_time": "2024-10-06T18:03:23.343060Z",
     "start_time": "2024-10-06T18:03:23.335197Z"
    }
   },
   "cell_type": "code",
   "source": "x - means",
   "id": "56e8e5f1386279af",
   "outputs": [
    {
     "data": {
      "text/plain": [
       "array([[ 0,  0,  0],\n",
       "       [-3,  0, -6],\n",
       "       [-8,  2, -4]])"
      ]
     },
     "execution_count": 38,
     "metadata": {},
     "output_type": "execute_result"
    }
   ],
   "execution_count": 38
  },
  {
   "metadata": {
    "ExecuteTime": {
     "end_time": "2024-10-06T18:06:18.934295Z",
     "start_time": "2024-10-06T18:06:18.925880Z"
    }
   },
   "cell_type": "code",
   "source": [
    "print(covs[0] @ x)\n",
    "print(covs[1] @ x)\n",
    "print(covs[2] @ x)\n",
    "print(covs @ x)"
   ],
   "id": "a866a4d9158ab854",
   "outputs": [
    {
     "name": "stdout",
     "output_type": "stream",
     "text": [
      "[ 6. 17. 24.]\n",
      "[ 3.   8.5 12. ]\n",
      "[ 9.  25.5 36. ]\n",
      "[[ 6.  17.  24. ]\n",
      " [ 3.   8.5 12. ]\n",
      " [ 9.  25.5 36. ]]\n"
     ]
    }
   ],
   "execution_count": 48
  },
  {
   "metadata": {
    "ExecuteTime": {
     "end_time": "2024-10-06T19:11:42.200235Z",
     "start_time": "2024-10-06T19:11:42.193402Z"
    }
   },
   "cell_type": "code",
   "source": [
    "print(covs)\n",
    "print(covs.transpose())"
   ],
   "id": "d9808fcb2837905f",
   "outputs": [
    {
     "name": "stdout",
     "output_type": "stream",
     "text": [
      "[[[ 1.   2.   3. ]\n",
      "  [ 6.   5.   6. ]\n",
      "  [ 7.   8.   9. ]]\n",
      "\n",
      " [[ 0.5  1.   1.5]\n",
      "  [ 3.   2.5  3. ]\n",
      "  [ 3.5  4.   4.5]]\n",
      "\n",
      " [[ 1.5  3.   4.5]\n",
      "  [ 9.   7.5  9. ]\n",
      "  [10.5 12.  13.5]]]\n",
      "[[[ 1.   0.5  1.5]\n",
      "  [ 6.   3.   9. ]\n",
      "  [ 7.   3.5 10.5]]\n",
      "\n",
      " [[ 2.   1.   3. ]\n",
      "  [ 5.   2.5  7.5]\n",
      "  [ 8.   4.  12. ]]\n",
      "\n",
      " [[ 3.   1.5  4.5]\n",
      "  [ 6.   3.   9. ]\n",
      "  [ 9.   4.5 13.5]]]\n"
     ]
    }
   ],
   "execution_count": 51
  },
  {
   "metadata": {
    "ExecuteTime": {
     "end_time": "2024-10-06T19:22:51.748287Z",
     "start_time": "2024-10-06T19:22:51.743646Z"
    }
   },
   "cell_type": "code",
   "source": "y = array([[[11,12], [21,22], [31,32]]])",
   "id": "4dd055cda14acbd1",
   "outputs": [],
   "execution_count": 53
  },
  {
   "metadata": {
    "ExecuteTime": {
     "end_time": "2024-10-06T19:22:53.675816Z",
     "start_time": "2024-10-06T19:22:53.672708Z"
    }
   },
   "cell_type": "code",
   "source": "y",
   "id": "869927d537209d63",
   "outputs": [
    {
     "data": {
      "text/plain": [
       "array([[[11, 12],\n",
       "        [21, 22],\n",
       "        [31, 32]]])"
      ]
     },
     "execution_count": 54,
     "metadata": {},
     "output_type": "execute_result"
    }
   ],
   "execution_count": 54
  },
  {
   "metadata": {
    "ExecuteTime": {
     "end_time": "2024-10-06T19:22:57.833391Z",
     "start_time": "2024-10-06T19:22:57.826834Z"
    }
   },
   "cell_type": "code",
   "source": "y.shape",
   "id": "503d9d4b99b5c5d8",
   "outputs": [
    {
     "data": {
      "text/plain": [
       "(1, 3, 2)"
      ]
     },
     "execution_count": 55,
     "metadata": {},
     "output_type": "execute_result"
    }
   ],
   "execution_count": 55
  },
  {
   "metadata": {
    "ExecuteTime": {
     "end_time": "2024-10-06T19:28:05.117394Z",
     "start_time": "2024-10-06T19:28:05.111533Z"
    }
   },
   "cell_type": "code",
   "source": [
    "print(y.shape)\n",
    "print(y.transpose((0, 1, 2)).shape)\n",
    "\n",
    "print(y.transpose().shape)\n",
    "print(y.transpose((2, 1, 0)).shape)\n",
    "\n",
    "print(y.transpose(0, 2, 1).shape)\n",
    "\n",
    "\n"
   ],
   "id": "befaebfa16cb874b",
   "outputs": [
    {
     "name": "stdout",
     "output_type": "stream",
     "text": [
      "(1, 3, 2)\n",
      "(1, 3, 2)\n",
      "(2, 3, 1)\n",
      "(2, 3, 1)\n",
      "(1, 2, 3)\n"
     ]
    }
   ],
   "execution_count": 66
  },
  {
   "metadata": {
    "ExecuteTime": {
     "end_time": "2024-10-06T19:28:27.920600Z",
     "start_time": "2024-10-06T19:28:27.917912Z"
    }
   },
   "cell_type": "code",
   "source": "print(y.transpose(0, 2, 1))",
   "id": "5eb388ff6e656ebc",
   "outputs": [
    {
     "name": "stdout",
     "output_type": "stream",
     "text": [
      "[[[11 21 31]\n",
      "  [12 22 32]]]\n"
     ]
    }
   ],
   "execution_count": 68
  },
  {
   "metadata": {},
   "cell_type": "code",
   "outputs": [],
   "execution_count": null,
   "source": "",
   "id": "7686f74bb8293976"
  }
 ],
 "metadata": {
  "kernelspec": {
   "display_name": "Python 3",
   "language": "python",
   "name": "python3"
  },
  "language_info": {
   "codemirror_mode": {
    "name": "ipython",
    "version": 2
   },
   "file_extension": ".py",
   "mimetype": "text/x-python",
   "name": "python",
   "nbconvert_exporter": "python",
   "pygments_lexer": "ipython2",
   "version": "2.7.6"
  }
 },
 "nbformat": 4,
 "nbformat_minor": 5
}
